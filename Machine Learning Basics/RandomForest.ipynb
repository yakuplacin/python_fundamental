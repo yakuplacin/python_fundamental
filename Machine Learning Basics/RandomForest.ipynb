{
 "cells": [
  {
   "cell_type": "code",
   "execution_count": 1,
   "id": "08b3783b",
   "metadata": {},
   "outputs": [
    {
     "name": "stdout",
     "output_type": "stream",
     "text": [
      "Validation MAE for Random Forest Model: 16,951\n"
     ]
    }
   ],
   "source": [
    "#Import helpful libraries\n",
    "import pandas as pd\n",
    "from sklearn.ensemble import RandomForestRegressor\n",
    "from sklearn.metrics import mean_absolute_error\n",
    "from sklearn.model_selection import train_test_split\n",
    "\n",
    "# Load the data, and separate the target\n",
    "iowa_file_path = './train.csv'\n",
    "home_data = pd.read_csv(iowa_file_path)\n",
    "y = home_data.SalePrice\n",
    "\n",
    "# Create X (After completing the exercise, you can return to modify this line!)\n",
    "\n",
    "features = ['LotArea','OverallQual','OverallCond','YearBuilt','1stFlrSF', 'HalfBath', 'FullBath','PoolArea','ScreenPorch','2ndFlrSF','YearRemodAdd','KitchenAbvGr','MSSubClass','Fireplaces', 'GrLivArea']\n",
    "\n",
    "\"\"\"\n",
    "ftrs = []\n",
    "length = len(features)\n",
    "for i in range(1,1 << length):\n",
    "    if(len(([features[j] for j in range(length) if (i & (1 << j))])) > 9):\n",
    "        ftrs.append(([features[j] for j in range(length) if (i & (1 << j))]))\n",
    "\n",
    "#print(ftrs)\n",
    "\n",
    "MAEs = []\n",
    "def find_best_MAE(features_improved):\n",
    "    X = home_data[features_improved]\n",
    "    train_X, val_X, train_y, val_y = train_test_split(X, y, random_state=1)\n",
    "    rf_model = RandomForestRegressor(random_state=1)\n",
    "    rf_model.fit(train_X, train_y)\n",
    "    rf_val_predictions = rf_model.predict(val_X)\n",
    "    rf_val_mae = mean_absolute_error(rf_val_predictions, val_y)\n",
    "    print(rf_val_mae, features_improved)\n",
    "    return rf_val_mae\n",
    "    \n",
    "for feature_imp in ftrs:\n",
    "    mae = find_best_MAE(feature_imp)\n",
    "    MAEs.append(mae)\n",
    "print(MAEs)\n",
    "print(ftrs)\n",
    "\"\"\"\n",
    "\n",
    "X = home_data[features]\n",
    "train_X, val_X, train_y, val_y = train_test_split(X, y, random_state=1)\n",
    "# Split into validation and training data\n",
    "\n",
    "\n",
    "\n",
    "# Define a random forest model\n",
    "rf_model = RandomForestRegressor(random_state=1)\n",
    "rf_model.fit(train_X, train_y)\n",
    "rf_val_predictions = rf_model.predict(val_X)\n",
    "rf_val_mae = mean_absolute_error(rf_val_predictions, val_y)\n",
    "\n",
    "print(\"Validation MAE for Random Forest Model: {:,.0f}\".format(rf_val_mae))"
   ]
  },
  {
   "cell_type": "code",
   "execution_count": 2,
   "id": "03220892",
   "metadata": {},
   "outputs": [
    {
     "data": {
      "text/plain": [
       "'print(min(MAEs))\\nminValue = min(MAEs)\\nindex = MAEs.index(minValue)\\nfeatures_last_improve = ftrs[index]\\nprint(features_last_improve)\\n'"
      ]
     },
     "execution_count": 2,
     "metadata": {},
     "output_type": "execute_result"
    }
   ],
   "source": [
    "\"\"\"print(min(MAEs))\n",
    "minValue = min(MAEs)\n",
    "index = MAEs.index(minValue)\n",
    "features_last_improve = ftrs[index]\n",
    "print(features_last_improve)\n",
    "\"\"\""
   ]
  },
  {
   "cell_type": "code",
   "execution_count": 3,
   "id": "2a20338f",
   "metadata": {},
   "outputs": [
    {
     "data": {
      "text/plain": [
       "RandomForestRegressor(random_state=1)"
      ]
     },
     "execution_count": 3,
     "metadata": {},
     "output_type": "execute_result"
    }
   ],
   "source": [
    "X = home_data[features]\n",
    "# To improve accuracy, create a new Random Forest model which you will train on all training data\n",
    "rf_model_on_full_data = RandomForestRegressor(random_state = 1)\n",
    "\n",
    "# fit rf_model_on_full_data on all data from the training data\n",
    "rf_model_on_full_data.fit(X, y)"
   ]
  },
  {
   "cell_type": "code",
   "execution_count": 4,
   "id": "01294fbf",
   "metadata": {},
   "outputs": [],
   "source": [
    "# path to file you will use for predictions\n",
    "test_data_path = './test.csv'\n",
    "\n",
    "# read test data file using pandas\n",
    "test_data = pd.read_csv(test_data_path)\n",
    "\n",
    "# create test_X which comes from test_data but includes only the columns you used for prediction.\n",
    "# The list of columns is stored in a variable called features\n",
    "test_X = test_data[features]\n",
    "\n",
    "test_X.head()\n",
    "\n",
    "# make predictions which we will submit. \n",
    "test_preds = rf_model_on_full_data.predict(test_X)"
   ]
  },
  {
   "cell_type": "code",
   "execution_count": 5,
   "id": "76670103",
   "metadata": {},
   "outputs": [],
   "source": [
    "output = pd.DataFrame({'Id': test_data.Id,\n",
    "                       'SalePrice': test_preds})\n",
    "output.to_csv('submission.csv', index=False)"
   ]
  },
  {
   "cell_type": "code",
   "execution_count": 6,
   "id": "cc801c06",
   "metadata": {},
   "outputs": [
    {
     "name": "stdout",
     "output_type": "stream",
     "text": [
      "DONE\n"
     ]
    }
   ],
   "source": [
    "print(\"DONE\")"
   ]
  },
  {
   "cell_type": "code",
   "execution_count": null,
   "id": "cc2a1df5",
   "metadata": {},
   "outputs": [],
   "source": []
  }
 ],
 "metadata": {
  "kernelspec": {
   "display_name": "Python 3 (ipykernel)",
   "language": "python",
   "name": "python3"
  },
  "language_info": {
   "codemirror_mode": {
    "name": "ipython",
    "version": 3
   },
   "file_extension": ".py",
   "mimetype": "text/x-python",
   "name": "python",
   "nbconvert_exporter": "python",
   "pygments_lexer": "ipython3",
   "version": "3.9.13"
  }
 },
 "nbformat": 4,
 "nbformat_minor": 5
}
