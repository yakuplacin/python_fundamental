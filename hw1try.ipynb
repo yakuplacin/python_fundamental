{
 "cells": [
  {
   "cell_type": "code",
   "execution_count": 100,
   "id": "db5dedd6",
   "metadata": {},
   "outputs": [
    {
     "name": "stdout",
     "output_type": "stream",
     "text": [
      "   MSSubClass  LotArea  OverallQual  OverallCond  YearBuilt  YearRemodAdd  \\\n",
      "0          60     8450            7            5       2003          2003   \n",
      "1          20     9600            6            8       1976          1976   \n",
      "2          60    11250            7            5       2001          2002   \n",
      "3          70     9550            7            5       1915          1970   \n",
      "4          60    14260            8            5       2000          2000   \n",
      "\n",
      "   1stFlrSF  2ndFlrSF  LowQualFinSF  GrLivArea  ...  Fireplaces  WoodDeckSF  \\\n",
      "0       856       854             0       1710  ...           0           0   \n",
      "1      1262         0             0       1262  ...           1         298   \n",
      "2       920       866             0       1786  ...           1           0   \n",
      "3       961       756             0       1717  ...           1           0   \n",
      "4      1145      1053             0       2198  ...           1         192   \n",
      "\n",
      "   OpenPorchSF  EnclosedPorch  3SsnPorch  ScreenPorch  PoolArea  MiscVal  \\\n",
      "0           61              0          0            0         0        0   \n",
      "1            0              0          0            0         0        0   \n",
      "2           42              0          0            0         0        0   \n",
      "3           35            272          0            0         0        0   \n",
      "4           84              0          0            0         0        0   \n",
      "\n",
      "   MoSold  YrSold  \n",
      "0       2    2008  \n",
      "1       5    2007  \n",
      "2       9    2008  \n",
      "3       2    2006  \n",
      "4      12    2008  \n",
      "\n",
      "[5 rows x 25 columns]\n",
      "Validation MAE for Random Forest Model: 17,906\n"
     ]
    }
   ],
   "source": [
    "# Import helpful libraries\n",
    "import pandas as pd\n",
    "from sklearn.ensemble import RandomForestRegressor\n",
    "from sklearn.metrics import mean_absolute_error\n",
    "from sklearn.model_selection import train_test_split\n",
    "\n",
    "# Load the data, and separate the target\n",
    "iowa_file_path = './train.csv'\n",
    "home_data = pd.read_csv(iowa_file_path)\n",
    "y = home_data.SalePrice\n",
    "\n",
    "# Create X (After completing the exercise, you can return to modify this line!)\n",
    "#features = ['LotArea', 'YearBuilt', 'WoodDeckSF','3SsnPorch']\n",
    "features = ['MSSubClass','LotArea', 'OverallQual','OverallCond', 'YearBuilt', 'YearRemodAdd', '1stFlrSF', '2ndFlrSF','LowQualFinSF', 'GrLivArea', 'FullBath','HalfBath', 'BedroomAbvGr', 'KitchenAbvGr', 'TotRmsAbvGrd','Fireplaces'\n",
    ", 'WoodDeckSF','OpenPorchSF','EnclosedPorch', '3SsnPorch', 'ScreenPorch', 'PoolArea', 'MiscVal', 'MoSold', 'YrSold']\n",
    "#features = ['OverallQual','1stFlrSF', '2ndFlrSF','YearBuilt', 'YearRemodAdd','Fireplaces', 'GrLivArea', 'FullBath','LotArea','KitchenAbvGr'\n",
    "#]\n",
    "\n",
    "\n",
    "\"\"\"\n",
    "ftrs = []\n",
    "length = len(features)\n",
    "for i in range(1,1 << length):\n",
    "    if(len(([features[j] for j in range(length) if (i & (1 << j))])) > 9):\n",
    "        ftrs.append(([features[j] for j in range(length) if (i & (1 << j))]))\n",
    "\n",
    "#print(ftrs)\n",
    "\n",
    "MAEs = []\n",
    "def find_best_MAE(features_improved):\n",
    "    X = home_data[features_improved]\n",
    "    train_X, val_X, train_y, val_y = train_test_split(X, y, random_state=1)\n",
    "    rf_model = RandomForestRegressor(random_state=1)\n",
    "    rf_model.fit(train_X, train_y)\n",
    "    rf_val_predictions = rf_model.predict(val_X)\n",
    "    rf_val_mae = mean_absolute_error(rf_val_predictions, val_y)\n",
    "    print(rf_val_mae, features_improved)\n",
    "    return rf_val_mae\n",
    "    \n",
    "for feature_imp in ftrs:\n",
    "    mae = find_best_MAE(feature_imp)\n",
    "    MAEs.append(mae)\n",
    "print(MAEs)\n",
    "print(ftrs)\n",
    "\"\"\"\n",
    "\n",
    "X = home_data[features]\n",
    "print(X.head())\n",
    "train_X, val_X, train_y, val_y = train_test_split(X, y, random_state=1)\n",
    "# Split into validation and training data\n",
    "\n",
    "\n",
    "\n",
    "# Define a random forest model\n",
    "rf_model = RandomForestRegressor(random_state=1)\n",
    "rf_model.fit(train_X, train_y)\n",
    "rf_val_predictions = rf_model.predict(val_X)\n",
    "rf_val_mae = mean_absolute_error(rf_val_predictions, val_y)\n",
    "\n",
    "print(\"Validation MAE for Random Forest Model: {:,.0f}\".format(rf_val_mae))"
   ]
  },
  {
   "cell_type": "code",
   "execution_count": 77,
   "id": "991747db",
   "metadata": {},
   "outputs": [
    {
     "data": {
      "text/plain": [
       "'print(min(MAEs))\\nminValue = min(MAEs)\\nindex = MAEs.index(minValue)\\nfeatures_last_improve = ftrs[index]\\nprint(features_last_improve)\\n'"
      ]
     },
     "execution_count": 77,
     "metadata": {},
     "output_type": "execute_result"
    }
   ],
   "source": [
    "\"\"\"print(min(MAEs))\n",
    "minValue = min(MAEs)\n",
    "index = MAEs.index(minValue)\n",
    "features_last_improve = ftrs[index]\n",
    "print(features_last_improve)\n",
    "\"\"\""
   ]
  },
  {
   "cell_type": "code",
   "execution_count": 89,
   "id": "2a20338f",
   "metadata": {},
   "outputs": [
    {
     "data": {
      "text/plain": [
       "RandomForestRegressor(random_state=1)"
      ]
     },
     "execution_count": 89,
     "metadata": {},
     "output_type": "execute_result"
    }
   ],
   "source": [
    "X = home_data[features]\n",
    "# To improve accuracy, create a new Random Forest model which you will train on all training data\n",
    "rf_model_on_full_data = RandomForestRegressor(random_state = 1)\n",
    "\n",
    "# fit rf_model_on_full_data on all data from the training data\n",
    "rf_model_on_full_data.fit(X, y)"
   ]
  },
  {
   "cell_type": "code",
   "execution_count": 90,
   "id": "01294fbf",
   "metadata": {},
   "outputs": [],
   "source": [
    "# path to file you will use for predictions\n",
    "test_data_path = './test.csv'\n",
    "\n",
    "# read test data file using pandas\n",
    "test_data = pd.read_csv(test_data_path)\n",
    "\n",
    "# create test_X which comes from test_data but includes only the columns you used for prediction.\n",
    "# The list of columns is stored in a variable called features\n",
    "test_X = test_data[features]\n",
    "\n",
    "test_X.head()\n",
    "\n",
    "# make predictions which we will submit. \n",
    "test_preds = rf_model_on_full_data.predict(test_X)"
   ]
  },
  {
   "cell_type": "code",
   "execution_count": 91,
   "id": "76670103",
   "metadata": {},
   "outputs": [],
   "source": [
    "output = pd.DataFrame({'Id': test_data.Id,\n",
    "                       'SalePrice': test_preds})\n",
    "output.to_csv('submission.csv', index=False)"
   ]
  },
  {
   "cell_type": "code",
   "execution_count": 92,
   "id": "cc801c06",
   "metadata": {},
   "outputs": [
    {
     "name": "stdout",
     "output_type": "stream",
     "text": [
      "HEY\n"
     ]
    }
   ],
   "source": [
    "print(\"HEY\")"
   ]
  },
  {
   "cell_type": "code",
   "execution_count": null,
   "id": "85b51d59",
   "metadata": {},
   "outputs": [],
   "source": []
  }
 ],
 "metadata": {
  "kernelspec": {
   "display_name": "Python 3 (ipykernel)",
   "language": "python",
   "name": "python3"
  },
  "language_info": {
   "codemirror_mode": {
    "name": "ipython",
    "version": 3
   },
   "file_extension": ".py",
   "mimetype": "text/x-python",
   "name": "python",
   "nbconvert_exporter": "python",
   "pygments_lexer": "ipython3",
   "version": "3.9.13"
  }
 },
 "nbformat": 4,
 "nbformat_minor": 5
}
